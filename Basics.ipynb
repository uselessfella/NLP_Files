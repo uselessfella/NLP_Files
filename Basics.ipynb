{
 "cells": [
  {
   "cell_type": "code",
   "execution_count": 25,
   "id": "2530f51f",
   "metadata": {},
   "outputs": [],
   "source": [
    "txt = \"Hello World\""
   ]
  },
  {
   "cell_type": "code",
   "execution_count": 26,
   "id": "90a0e78b",
   "metadata": {},
   "outputs": [
    {
     "data": {
      "text/plain": [
       "'H'"
      ]
     },
     "execution_count": 26,
     "metadata": {},
     "output_type": "execute_result"
    }
   ],
   "source": [
    "txt[0]"
   ]
  },
  {
   "cell_type": "code",
   "execution_count": 27,
   "id": "80b29139",
   "metadata": {},
   "outputs": [
    {
     "data": {
      "text/plain": [
       "'l'"
      ]
     },
     "execution_count": 27,
     "metadata": {},
     "output_type": "execute_result"
    }
   ],
   "source": [
    "txt[-2]"
   ]
  },
  {
   "cell_type": "code",
   "execution_count": 5,
   "id": "f4fd19ac",
   "metadata": {},
   "outputs": [
    {
     "data": {
      "text/plain": [
       "'ll'"
      ]
     },
     "execution_count": 5,
     "metadata": {},
     "output_type": "execute_result"
    }
   ],
   "source": [
    "txt[2:4]"
   ]
  },
  {
   "cell_type": "code",
   "execution_count": 16,
   "id": "d107aadf",
   "metadata": {},
   "outputs": [
    {
     "data": {
      "text/plain": [
       "'Hello World'"
      ]
     },
     "execution_count": 16,
     "metadata": {},
     "output_type": "execute_result"
    }
   ],
   "source": [
    "txt[0:11]"
   ]
  },
  {
   "cell_type": "code",
   "execution_count": 19,
   "id": "27e921c8",
   "metadata": {},
   "outputs": [
    {
     "data": {
      "text/plain": [
       "3"
      ]
     },
     "execution_count": 19,
     "metadata": {},
     "output_type": "execute_result"
    }
   ],
   "source": [
    "txt.count('l')"
   ]
  },
  {
   "cell_type": "code",
   "execution_count": 32,
   "id": "7232b9d0",
   "metadata": {},
   "outputs": [
    {
     "data": {
      "text/plain": [
       "'Jello World'"
      ]
     },
     "execution_count": 32,
     "metadata": {},
     "output_type": "execute_result"
    }
   ],
   "source": [
    "txt.replace('H','J')"
   ]
  },
  {
   "cell_type": "code",
   "execution_count": 34,
   "id": "835283db",
   "metadata": {},
   "outputs": [],
   "source": [
    "big_text = \"The Second Punic War (218–201 BC) was the second of three wars fought between Carthage and Rome, the two main powers of the western Mediterranean in the 3rd century BC. For 17 years the two states struggled for supremacy. After immense materiel and human losses on both sides the Carthaginians were defeated. Macedonia, Syracuse and several Numidian kingdoms were drawn into the fighting, and Iberian and Gallic forces fought on both sides. There were three main military theatres during the war: Italy, where Hannibal defeated the Roman legions repeatedly, with occasional subsidiary campaigns on the islands of Sicily and Sardinia and in Greece; Iberia, where Hasdrubal, a younger brother of Hannibal, defended the Carthaginian colonial cities with mixed success before moving into Italy; and North Africa, where Rome finally won the war. \""
   ]
  },
  {
   "cell_type": "code",
   "execution_count": 36,
   "id": "c06fb692",
   "metadata": {},
   "outputs": [
    {
     "data": {
      "text/plain": [
       "'a Second Punic War (218–201 BC) was a second of three wars fought between Carthage and Rome, a two main powers of a western Mediterranean in a 3rd century BC. For 17 years a two states struggled for supremacy. After immense materiel and human losses on both sides a Carthaginians were defeated. Macedonia, Syracuse and several Numidian kingdoms were drawn into a fighting, and Iberian and Gallic forces fought on both sides. are were three main military aatres during a war: Italy, where Hannibal defeated a Roman legions repeatedly, with occasional subsidiary campaigns on a islands of Sicily and Sardinia and in Greece; Iberia, where Hasdrubal, a younger broar of Hannibal, defended a Carthaginian colonial cities with mixed success before moving into Italy; and North Africa, where Rome finally won a war. '"
      ]
     },
     "execution_count": 36,
     "metadata": {},
     "output_type": "execute_result"
    }
   ],
   "source": [
    "big_text.replace(\"the\",\"a\").replace(\"The\",\"a\").replace(\"THE\",\"a\")"
   ]
  },
  {
   "cell_type": "code",
   "execution_count": 57,
   "id": "76edee9a",
   "metadata": {},
   "outputs": [
    {
     "name": "stdout",
     "output_type": "stream",
     "text": [
      "dlroW olleH\n"
     ]
    }
   ],
   "source": [
    "txt = \"Hello World\"[::-1]\n",
    "print(txt)"
   ]
  },
  {
   "cell_type": "code",
   "execution_count": 58,
   "id": "c28765b8",
   "metadata": {},
   "outputs": [],
   "source": [
    "String_1 = \"hello\"\n",
    "String_2 = \"world\""
   ]
  },
  {
   "cell_type": "code",
   "execution_count": 63,
   "id": "c77d84b0",
   "metadata": {},
   "outputs": [
    {
     "name": "stdout",
     "output_type": "stream",
     "text": [
      "hello world\n"
     ]
    }
   ],
   "source": [
    "String_3 = String_1 +\" \"+ String_2\n",
    "print(String_3)"
   ]
  },
  {
   "cell_type": "code",
   "execution_count": null,
   "id": "574cb9c7",
   "metadata": {},
   "outputs": [],
   "source": []
  },
  {
   "cell_type": "code",
   "execution_count": null,
   "id": "6ed84753",
   "metadata": {},
   "outputs": [],
   "source": []
  },
  {
   "cell_type": "code",
   "execution_count": null,
   "id": "4e32ce6d",
   "metadata": {},
   "outputs": [],
   "source": []
  }
 ],
 "metadata": {
  "kernelspec": {
   "display_name": "Python 3 (ipykernel)",
   "language": "python",
   "name": "python3"
  },
  "language_info": {
   "codemirror_mode": {
    "name": "ipython",
    "version": 3
   },
   "file_extension": ".py",
   "mimetype": "text/x-python",
   "name": "python",
   "nbconvert_exporter": "python",
   "pygments_lexer": "ipython3",
   "version": "3.9.13"
  }
 },
 "nbformat": 4,
 "nbformat_minor": 5
}

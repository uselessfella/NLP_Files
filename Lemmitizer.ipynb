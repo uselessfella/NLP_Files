{
 "cells": [
  {
   "cell_type": "code",
   "execution_count": 1,
   "id": "b1fe39ba",
   "metadata": {},
   "outputs": [],
   "source": [
    "# I am writing some code as hints, feel free to solve it however you want\n",
    "from nltk.stem import WordNetLemmatizer\n",
    "lemmatizer = WordNetLemmatizer()"
   ]
  },
  {
   "cell_type": "code",
   "execution_count": 2,
   "id": "6595e40d",
   "metadata": {},
   "outputs": [],
   "source": [
    "import nltk"
   ]
  },
  {
   "cell_type": "code",
   "execution_count": 3,
   "id": "717c5190",
   "metadata": {},
   "outputs": [],
   "source": [
    "a=('Hello Friends, I am Nityam Garg. A Third Year BBA Student')"
   ]
  },
  {
   "cell_type": "code",
   "execution_count": 4,
   "id": "ba9f31d4",
   "metadata": {},
   "outputs": [],
   "source": [
    "c=nltk.word_tokenize(a)"
   ]
  },
  {
   "cell_type": "code",
   "execution_count": 5,
   "id": "ce6bd189",
   "metadata": {},
   "outputs": [
    {
     "name": "stdout",
     "output_type": "stream",
     "text": [
      "Hello\n",
      "Friends\n",
      ",\n",
      "I\n",
      "am\n",
      "Nityam\n",
      "Garg\n",
      ".\n",
      "A\n",
      "Third\n",
      "Year\n",
      "BBA\n",
      "Student\n"
     ]
    }
   ],
   "source": [
    "for i in c:\n",
    "    if i in c:\n",
    "        print(lemmatizer.lemmatize(i))"
   ]
  },
  {
   "cell_type": "code",
   "execution_count": 6,
   "id": "189a035e",
   "metadata": {},
   "outputs": [],
   "source": [
    "# the final code:\n",
    "def my_lemmatizer(a):\n",
    "    c=nltk.word_tokenize(a)\n",
    "    for i in c:\n",
    "        print(lemmatizer.lemmatize(i))"
   ]
  },
  {
   "cell_type": "code",
   "execution_count": 7,
   "id": "18e97bf7",
   "metadata": {},
   "outputs": [],
   "source": [
    "#The final code using return function:\n",
    "def my_lemmatizer(a):\n",
    "    c=nltk.word_tokenize(a)\n",
    "    my_list=[]\n",
    "    for i in c:\n",
    "        my_list.append(lemmatizer.lemmatize(i))\n",
    "    return my_list"
   ]
  },
  {
   "cell_type": "code",
   "execution_count": 8,
   "id": "cdb33008",
   "metadata": {},
   "outputs": [
    {
     "data": {
      "text/plain": [
       "['Hello',\n",
       " 'Friends',\n",
       " ',',\n",
       " 'I',\n",
       " 'am',\n",
       " 'Nityam',\n",
       " 'Garg',\n",
       " '.',\n",
       " 'A',\n",
       " 'Third',\n",
       " 'Year',\n",
       " 'BBA',\n",
       " 'Student']"
      ]
     },
     "execution_count": 8,
     "metadata": {},
     "output_type": "execute_result"
    }
   ],
   "source": [
    "my_lemmatizer('Hello Friends, I am Nityam Garg. A Third Year BBA Student')"
   ]
  }
 ],
 "metadata": {
  "kernelspec": {
   "display_name": "Python 3 (ipykernel)",
   "language": "python",
   "name": "python3"
  },
  "language_info": {
   "codemirror_mode": {
    "name": "ipython",
    "version": 3
   },
   "file_extension": ".py",
   "mimetype": "text/x-python",
   "name": "python",
   "nbconvert_exporter": "python",
   "pygments_lexer": "ipython3",
   "version": "3.9.13"
  }
 },
 "nbformat": 4,
 "nbformat_minor": 5
}

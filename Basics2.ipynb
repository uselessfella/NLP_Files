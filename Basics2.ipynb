{
 "cells": [
  {
   "cell_type": "code",
   "execution_count": 1,
   "id": "84e2d4c5",
   "metadata": {},
   "outputs": [],
   "source": [
    "x = 5"
   ]
  },
  {
   "cell_type": "code",
   "execution_count": 2,
   "id": "71d0aefc",
   "metadata": {},
   "outputs": [
    {
     "data": {
      "text/plain": [
       "int"
      ]
     },
     "execution_count": 2,
     "metadata": {},
     "output_type": "execute_result"
    }
   ],
   "source": [
    "type(x)"
   ]
  },
  {
   "cell_type": "code",
   "execution_count": 4,
   "id": "f6459bea",
   "metadata": {},
   "outputs": [
    {
     "data": {
      "text/plain": [
       "5.0"
      ]
     },
     "execution_count": 4,
     "metadata": {},
     "output_type": "execute_result"
    }
   ],
   "source": [
    "float(x)"
   ]
  },
  {
   "cell_type": "code",
   "execution_count": 5,
   "id": "d1e6fea5",
   "metadata": {},
   "outputs": [],
   "source": [
    "fruits = [\"apple\", \"banana\", \"cherry\"]"
   ]
  },
  {
   "cell_type": "code",
   "execution_count": 6,
   "id": "b05e2ef4",
   "metadata": {},
   "outputs": [
    {
     "data": {
      "text/plain": [
       "'cherry'"
      ]
     },
     "execution_count": 6,
     "metadata": {},
     "output_type": "execute_result"
    }
   ],
   "source": [
    "fruits[2]"
   ]
  },
  {
   "cell_type": "code",
   "execution_count": 9,
   "id": "35c1a146",
   "metadata": {},
   "outputs": [
    {
     "name": "stdout",
     "output_type": "stream",
     "text": [
      "['kiwi', 'banana', 'cherry']\n"
     ]
    }
   ],
   "source": [
    "fruits[0] = \"kiwi\"\n",
    "print(fruits)"
   ]
  },
  {
   "cell_type": "code",
   "execution_count": 11,
   "id": "224e0bf0",
   "metadata": {},
   "outputs": [],
   "source": [
    "fruits = {\"apple\", \"banana\", \"cherry\"}"
   ]
  },
  {
   "cell_type": "code",
   "execution_count": 14,
   "id": "5d8c5f2e",
   "metadata": {},
   "outputs": [],
   "source": [
    "b = {\"Orange\"}"
   ]
  },
  {
   "cell_type": "code",
   "execution_count": 15,
   "id": "479fe831",
   "metadata": {},
   "outputs": [
    {
     "data": {
      "text/plain": [
       "{'Orange', 'apple', 'banana', 'cherry'}"
      ]
     },
     "execution_count": 15,
     "metadata": {},
     "output_type": "execute_result"
    }
   ],
   "source": [
    "fruits.union(b)"
   ]
  },
  {
   "cell_type": "code",
   "execution_count": 2,
   "id": "5e77d1e1",
   "metadata": {},
   "outputs": [],
   "source": [
    "fruits = {\"apple\", \"banana\", \"cherry\"}\n",
    "more_fruits = [\"orange\", \"mango\", \"grapes\", \"apple\", \"apple\"]"
   ]
  },
  {
   "cell_type": "code",
   "execution_count": 17,
   "id": "00bf985c",
   "metadata": {},
   "outputs": [
    {
     "data": {
      "text/plain": [
       "{'apple', 'banana', 'cherry', 'grapes', 'mango', 'orange'}"
      ]
     },
     "execution_count": 17,
     "metadata": {},
     "output_type": "execute_result"
    }
   ],
   "source": [
    "fruits.union(more_fruits)"
   ]
  },
  {
   "cell_type": "code",
   "execution_count": 18,
   "id": "1a881bc8",
   "metadata": {},
   "outputs": [],
   "source": [
    "car ={\n",
    "  \"brand\": \"Ford\",\n",
    "  \"model\": \"Mustang\",\n",
    "  \"year\": 1964\n",
    "}"
   ]
  },
  {
   "cell_type": "code",
   "execution_count": 21,
   "id": "abd43abc",
   "metadata": {},
   "outputs": [
    {
     "data": {
      "text/plain": [
       "'Mustang'"
      ]
     },
     "execution_count": 21,
     "metadata": {},
     "output_type": "execute_result"
    }
   ],
   "source": [
    "car.get(\"model\")"
   ]
  },
  {
   "cell_type": "code",
   "execution_count": 28,
   "id": "0668b9a5",
   "metadata": {},
   "outputs": [],
   "source": [
    "a= 50\n",
    "b= 10  "
   ]
  },
  {
   "cell_type": "code",
   "execution_count": 29,
   "id": "d04ba210",
   "metadata": {},
   "outputs": [
    {
     "name": "stdout",
     "output_type": "stream",
     "text": [
      "Hello World\n"
     ]
    }
   ],
   "source": [
    "if a>b :\n",
    "  print(\"Hello World\")\n",
    "else:\n",
    "   print(\"\")\n"
   ]
  },
  {
   "cell_type": "code",
   "execution_count": 31,
   "id": "ed08fa2c",
   "metadata": {},
   "outputs": [
    {
     "name": "stdout",
     "output_type": "stream",
     "text": [
      "Yes\n"
     ]
    }
   ],
   "source": [
    "if a>b :\n",
    "  print(\"Yes\")\n",
    "else:\n",
    "   print(\"No\")\n"
   ]
  },
  {
   "cell_type": "code",
   "execution_count": 33,
   "id": "8554f8fb",
   "metadata": {},
   "outputs": [
    {
     "name": "stdout",
     "output_type": "stream",
     "text": [
      "2\n"
     ]
    }
   ],
   "source": [
    "if a == b :\n",
    "  print(\"1\")\n",
    "elif a > b:\n",
    "    print(\"2\")\n",
    "else:\n",
    "   print(\"3\")\n"
   ]
  },
  {
   "cell_type": "code",
   "execution_count": 34,
   "id": "3b116942",
   "metadata": {},
   "outputs": [],
   "source": [
    "a = 50\n",
    "b = 10\n",
    "c = 20\n",
    "d = 20"
   ]
  },
  {
   "cell_type": "code",
   "execution_count": 36,
   "id": "29ebe38c",
   "metadata": {},
   "outputs": [
    {
     "name": "stdout",
     "output_type": "stream",
     "text": [
      "Hello\n"
     ]
    }
   ],
   "source": [
    "    if (a==b or c==d):\n",
    "     print(\"Hello\")\n",
    "    else:\n",
    "     print(\"\")"
   ]
  },
  {
   "cell_type": "code",
   "execution_count": 3,
   "id": "821caece",
   "metadata": {},
   "outputs": [],
   "source": [
    "fruits = [\"apple\", \"banana\", \"cherry\"]"
   ]
  },
  {
   "cell_type": "code",
   "execution_count": 47,
   "id": "a517a84a",
   "metadata": {},
   "outputs": [
    {
     "name": "stdout",
     "output_type": "stream",
     "text": [
      "apple\n",
      "banana\n",
      "cherry\n"
     ]
    }
   ],
   "source": [
    "for i in fruits:\n",
    "    print(i);"
   ]
  },
  {
   "cell_type": "code",
   "execution_count": 61,
   "id": "30462864",
   "metadata": {},
   "outputs": [
    {
     "name": "stdout",
     "output_type": "stream",
     "text": [
      "0\n",
      "1\n",
      "2\n",
      "3\n",
      "4\n",
      "5\n"
     ]
    }
   ],
   "source": [
    "for fruits in range(6):\n",
    "    print(fruits)"
   ]
  },
  {
   "cell_type": "code",
   "execution_count": 4,
   "id": "11a27977",
   "metadata": {},
   "outputs": [
    {
     "name": "stdout",
     "output_type": "stream",
     "text": [
      "apple\n",
      "banana\n"
     ]
    }
   ],
   "source": [
    "for i in fruits:\n",
    "    print (i)\n",
    "    if i == \"banana\":\n",
    "        break"
   ]
  },
  {
   "cell_type": "code",
   "execution_count": 5,
   "id": "53f99110",
   "metadata": {},
   "outputs": [],
   "source": [
    "def my_func(f_name,l_name):\n",
    "    name = f_name + \" \" + l_name\n",
    "    print (name)"
   ]
  },
  {
   "cell_type": "code",
   "execution_count": 6,
   "id": "7e672585",
   "metadata": {},
   "outputs": [
    {
     "name": "stdout",
     "output_type": "stream",
     "text": [
      "Nityam Garg\n"
     ]
    }
   ],
   "source": [
    "my_func(\"Nityam\",\"Garg\")"
   ]
  },
  {
   "cell_type": "code",
   "execution_count": null,
   "id": "a1d9a10d",
   "metadata": {},
   "outputs": [],
   "source": []
  },
  {
   "cell_type": "code",
   "execution_count": null,
   "id": "498959f5",
   "metadata": {},
   "outputs": [],
   "source": []
  },
  {
   "cell_type": "code",
   "execution_count": null,
   "id": "a50a3670",
   "metadata": {},
   "outputs": [],
   "source": []
  },
  {
   "cell_type": "code",
   "execution_count": null,
   "id": "5a68babc",
   "metadata": {},
   "outputs": [],
   "source": []
  },
  {
   "cell_type": "code",
   "execution_count": null,
   "id": "f7c41021",
   "metadata": {},
   "outputs": [],
   "source": []
  },
  {
   "cell_type": "code",
   "execution_count": null,
   "id": "0f3091a4",
   "metadata": {},
   "outputs": [],
   "source": [
    "    "
   ]
  }
 ],
 "metadata": {
  "kernelspec": {
   "display_name": "Python 3 (ipykernel)",
   "language": "python",
   "name": "python3"
  },
  "language_info": {
   "codemirror_mode": {
    "name": "ipython",
    "version": 3
   },
   "file_extension": ".py",
   "mimetype": "text/x-python",
   "name": "python",
   "nbconvert_exporter": "python",
   "pygments_lexer": "ipython3",
   "version": "3.9.13"
  }
 },
 "nbformat": 4,
 "nbformat_minor": 5
}

{
 "cells": [
  {
   "cell_type": "code",
   "execution_count": 1,
   "id": "0404a8e2",
   "metadata": {},
   "outputs": [],
   "source": [
    "from sklearn.feature_extraction.text import CountVectorizer\n",
    "from sklearn.feature_extraction.text import TfidfVectorizer"
   ]
  },
  {
   "cell_type": "code",
   "execution_count": 2,
   "id": "b6e8af4a",
   "metadata": {},
   "outputs": [],
   "source": [
    "vectorizer = CountVectorizer()"
   ]
  },
  {
   "cell_type": "code",
   "execution_count": 3,
   "id": "3e651bb1",
   "metadata": {},
   "outputs": [
    {
     "data": {
      "text/plain": [
       "CountVectorizer()"
      ]
     },
     "execution_count": 3,
     "metadata": {},
     "output_type": "execute_result"
    }
   ],
   "source": [
    "vectorizer.fit(['This is an example text, i am going to write anything here, use this text as your example''You can use this text to convert into vectors''Do remember to clean up the text before you start any processing''Once you are done converting the text into numbers(vectors), do a shinchan dance'\n",
    "])"
   ]
  },
  {
   "cell_type": "code",
   "execution_count": 4,
   "id": "71d03a68",
   "metadata": {},
   "outputs": [
    {
     "data": {
      "text/plain": [
       "array(['am', 'an', 'any', 'anything', 'are', 'as', 'before', 'can',\n",
       "       'clean', 'convert', 'converting', 'dance', 'do', 'done', 'example',\n",
       "       'exampleyou', 'going', 'here', 'into', 'is', 'numbers',\n",
       "       'processingonce', 'remember', 'shinchan', 'start', 'text', 'the',\n",
       "       'this', 'to', 'up', 'use', 'vectors', 'vectorsdo', 'write', 'you',\n",
       "       'your'], dtype=object)"
      ]
     },
     "execution_count": 4,
     "metadata": {},
     "output_type": "execute_result"
    }
   ],
   "source": [
    "vectorizer.get_feature_names_out()"
   ]
  },
  {
   "cell_type": "code",
   "execution_count": 5,
   "id": "7fbaee14",
   "metadata": {},
   "outputs": [],
   "source": [
    "vector = vectorizer.transform(['This is an example text, i am going to write anything here, use this text as your example''You can use this text to convert into vectors''Do remember to clean up the text before you start any processing''Once you are done converting the text into numbers(vectors), do a shinchan dance'])\n"
   ]
  },
  {
   "cell_type": "code",
   "execution_count": 6,
   "id": "42109d4b",
   "metadata": {},
   "outputs": [
    {
     "data": {
      "text/plain": [
       "<1x36 sparse matrix of type '<class 'numpy.int64'>'\n",
       "\twith 36 stored elements in Compressed Sparse Row format>"
      ]
     },
     "execution_count": 6,
     "metadata": {},
     "output_type": "execute_result"
    }
   ],
   "source": [
    "vector\n"
   ]
  },
  {
   "cell_type": "code",
   "execution_count": 7,
   "id": "0a6d7e9b",
   "metadata": {},
   "outputs": [
    {
     "data": {
      "text/plain": [
       "array([[1, 1, 1, 1, 1, 1, 1, 1, 1, 1, 1, 1, 1, 1, 1, 1, 1, 1, 2, 1, 1, 1,\n",
       "        1, 1, 1, 5, 2, 3, 3, 1, 2, 1, 1, 1, 2, 1]], dtype=int64)"
      ]
     },
     "execution_count": 7,
     "metadata": {},
     "output_type": "execute_result"
    }
   ],
   "source": [
    "vector.toarray()"
   ]
  },
  {
   "cell_type": "code",
   "execution_count": 8,
   "id": "59c45b01",
   "metadata": {},
   "outputs": [],
   "source": [
    "vectorizer = TfidfVectorizer()"
   ]
  },
  {
   "cell_type": "code",
   "execution_count": 9,
   "id": "d3f1d493",
   "metadata": {},
   "outputs": [
    {
     "data": {
      "text/plain": [
       "TfidfVectorizer()"
      ]
     },
     "execution_count": 9,
     "metadata": {},
     "output_type": "execute_result"
    }
   ],
   "source": [
    "vectorizer.fit(['This is an example text, i am going to write anything here, use this text as your example''You can use this text to convert into vectors''Do remember to clean up the text before you start any processing''Once you are done converting the text into numbers(vectors), do a shinchan dance'])\n"
   ]
  },
  {
   "cell_type": "code",
   "execution_count": 10,
   "id": "dcf5395a",
   "metadata": {},
   "outputs": [],
   "source": [
    "vector = vectorizer.transform(['This is an example text, i am going to write anything here, use this text as your example''You can use this text to convert into vectors''Do remember to clean up the text before you start any processing''Once you are done converting the text into numbers(vectors), do a shinchan dance'])\n"
   ]
  },
  {
   "cell_type": "code",
   "execution_count": 11,
   "id": "cdac5195",
   "metadata": {},
   "outputs": [
    {
     "data": {
      "text/plain": [
       "array([[0.10660036, 0.10660036, 0.10660036, 0.10660036, 0.10660036,\n",
       "        0.10660036, 0.10660036, 0.10660036, 0.10660036, 0.10660036,\n",
       "        0.10660036, 0.10660036, 0.10660036, 0.10660036, 0.10660036,\n",
       "        0.10660036, 0.10660036, 0.10660036, 0.21320072, 0.10660036,\n",
       "        0.10660036, 0.10660036, 0.10660036, 0.10660036, 0.10660036,\n",
       "        0.53300179, 0.21320072, 0.31980107, 0.31980107, 0.10660036,\n",
       "        0.21320072, 0.10660036, 0.10660036, 0.10660036, 0.21320072,\n",
       "        0.10660036]])"
      ]
     },
     "execution_count": 11,
     "metadata": {},
     "output_type": "execute_result"
    }
   ],
   "source": [
    "vector.toarray()"
   ]
  },
  {
   "cell_type": "code",
   "execution_count": null,
   "id": "a10c78dd",
   "metadata": {},
   "outputs": [],
   "source": []
  },
  {
   "cell_type": "code",
   "execution_count": null,
   "id": "0ca8cac3",
   "metadata": {},
   "outputs": [],
   "source": []
  },
  {
   "cell_type": "code",
   "execution_count": null,
   "id": "26211d93",
   "metadata": {},
   "outputs": [],
   "source": []
  },
  {
   "cell_type": "code",
   "execution_count": null,
   "id": "6157f02a",
   "metadata": {},
   "outputs": [],
   "source": []
  },
  {
   "cell_type": "code",
   "execution_count": null,
   "id": "99758e8c",
   "metadata": {},
   "outputs": [],
   "source": []
  }
 ],
 "metadata": {
  "kernelspec": {
   "display_name": "Python 3 (ipykernel)",
   "language": "python",
   "name": "python3"
  },
  "language_info": {
   "codemirror_mode": {
    "name": "ipython",
    "version": 3
   },
   "file_extension": ".py",
   "mimetype": "text/x-python",
   "name": "python",
   "nbconvert_exporter": "python",
   "pygments_lexer": "ipython3",
   "version": "3.9.13"
  }
 },
 "nbformat": 4,
 "nbformat_minor": 5
}

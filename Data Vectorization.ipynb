{
 "cells": [
  {
   "cell_type": "code",
   "execution_count": 1,
   "id": "1b4ff5c2",
   "metadata": {},
   "outputs": [],
   "source": [
    "#Importing all the necessary libraries....\n",
    "from nltk.corpus import stopwords\n",
    "from nltk.tokenize import word_tokenize\n",
    "import nltk\n",
    "import pandas as pd\n",
    "from nltk.stem import WordNetLemmatizer\n",
    "lemmatizer = WordNetLemmatizer()\n",
    "import nltk"
   ]
  },
  {
   "cell_type": "code",
   "execution_count": 3,
   "id": "0ec1f733",
   "metadata": {},
   "outputs": [],
   "source": [
    "df = pd.read_csv('Data - SPAM text.csv')"
   ]
  },
  {
   "cell_type": "code",
   "execution_count": 4,
   "id": "8eb3bd29",
   "metadata": {},
   "outputs": [
    {
     "data": {
      "text/html": [
       "<div>\n",
       "<style scoped>\n",
       "    .dataframe tbody tr th:only-of-type {\n",
       "        vertical-align: middle;\n",
       "    }\n",
       "\n",
       "    .dataframe tbody tr th {\n",
       "        vertical-align: top;\n",
       "    }\n",
       "\n",
       "    .dataframe thead th {\n",
       "        text-align: right;\n",
       "    }\n",
       "</style>\n",
       "<table border=\"1\" class=\"dataframe\">\n",
       "  <thead>\n",
       "    <tr style=\"text-align: right;\">\n",
       "      <th></th>\n",
       "      <th>Category</th>\n",
       "      <th>Message</th>\n",
       "    </tr>\n",
       "  </thead>\n",
       "  <tbody>\n",
       "    <tr>\n",
       "      <th>0</th>\n",
       "      <td>ham</td>\n",
       "      <td>Go until jurong point, crazy.. Available only ...</td>\n",
       "    </tr>\n",
       "    <tr>\n",
       "      <th>1</th>\n",
       "      <td>ham</td>\n",
       "      <td>Ok lar... Joking wif u oni...</td>\n",
       "    </tr>\n",
       "    <tr>\n",
       "      <th>2</th>\n",
       "      <td>spam</td>\n",
       "      <td>Free entry in 2 a wkly comp to win FA Cup fina...</td>\n",
       "    </tr>\n",
       "    <tr>\n",
       "      <th>3</th>\n",
       "      <td>ham</td>\n",
       "      <td>U dun say so early hor... U c already then say...</td>\n",
       "    </tr>\n",
       "    <tr>\n",
       "      <th>4</th>\n",
       "      <td>ham</td>\n",
       "      <td>Nah I don't think he goes to usf, he lives aro...</td>\n",
       "    </tr>\n",
       "    <tr>\n",
       "      <th>...</th>\n",
       "      <td>...</td>\n",
       "      <td>...</td>\n",
       "    </tr>\n",
       "    <tr>\n",
       "      <th>5567</th>\n",
       "      <td>spam</td>\n",
       "      <td>This is the 2nd time we have tried 2 contact u...</td>\n",
       "    </tr>\n",
       "    <tr>\n",
       "      <th>5568</th>\n",
       "      <td>ham</td>\n",
       "      <td>Will ü b going to esplanade fr home?</td>\n",
       "    </tr>\n",
       "    <tr>\n",
       "      <th>5569</th>\n",
       "      <td>ham</td>\n",
       "      <td>Pity, * was in mood for that. So...any other s...</td>\n",
       "    </tr>\n",
       "    <tr>\n",
       "      <th>5570</th>\n",
       "      <td>ham</td>\n",
       "      <td>The guy did some bitching but I acted like i'd...</td>\n",
       "    </tr>\n",
       "    <tr>\n",
       "      <th>5571</th>\n",
       "      <td>ham</td>\n",
       "      <td>Rofl. Its true to its name</td>\n",
       "    </tr>\n",
       "  </tbody>\n",
       "</table>\n",
       "<p>5572 rows × 2 columns</p>\n",
       "</div>"
      ],
      "text/plain": [
       "     Category                                            Message\n",
       "0         ham  Go until jurong point, crazy.. Available only ...\n",
       "1         ham                      Ok lar... Joking wif u oni...\n",
       "2        spam  Free entry in 2 a wkly comp to win FA Cup fina...\n",
       "3         ham  U dun say so early hor... U c already then say...\n",
       "4         ham  Nah I don't think he goes to usf, he lives aro...\n",
       "...       ...                                                ...\n",
       "5567     spam  This is the 2nd time we have tried 2 contact u...\n",
       "5568      ham               Will ü b going to esplanade fr home?\n",
       "5569      ham  Pity, * was in mood for that. So...any other s...\n",
       "5570      ham  The guy did some bitching but I acted like i'd...\n",
       "5571      ham                         Rofl. Its true to its name\n",
       "\n",
       "[5572 rows x 2 columns]"
      ]
     },
     "execution_count": 4,
     "metadata": {},
     "output_type": "execute_result"
    }
   ],
   "source": [
    "df"
   ]
  },
  {
   "cell_type": "code",
   "execution_count": 5,
   "id": "105408f4",
   "metadata": {},
   "outputs": [],
   "source": [
    "#Creating a function to remove all the stopwords in a sentence.\n",
    "def datacleaning(x):\n",
    "    y=nltk.word_tokenize(x)\n",
    "    temp=[]\n",
    "    for i in y:\n",
    "        if i in stopwords.words(\"english\"): \n",
    "            pass\n",
    "        else:\n",
    "            temp.append(i)\n",
    "    my_new_string=' '.join(temp)\n",
    "    return (my_new_string)"
   ]
  },
  {
   "cell_type": "code",
   "execution_count": 6,
   "id": "f651b480",
   "metadata": {},
   "outputs": [],
   "source": [
    "df['Clean_message']=df['Message'].apply(datacleaning)"
   ]
  },
  {
   "cell_type": "code",
   "execution_count": 7,
   "id": "1b60649c",
   "metadata": {},
   "outputs": [],
   "source": [
    "#Creating a function to lemmatize words in a sentence.\n",
    "def my_lemmatizer(a):\n",
    "    c=nltk.word_tokenize(a)\n",
    "    my_list=[]\n",
    "    for i in c:\n",
    "        my_list.append(lemmatizer.lemmatize(i))\n",
    "        my_new_string=' '.join(my_list)\n",
    "    return my_new_string"
   ]
  },
  {
   "cell_type": "code",
   "execution_count": 8,
   "id": "11ba394f",
   "metadata": {},
   "outputs": [],
   "source": [
    "df['Lemmatized_message']=df['Clean_message'].apply(my_lemmatizer)"
   ]
  },
  {
   "cell_type": "code",
   "execution_count": 9,
   "id": "499f5d3a",
   "metadata": {},
   "outputs": [],
   "source": [
    "#Creating a function to count the length of text.\n",
    "def Text_count(x):\n",
    "    y=nltk.word_tokenize(x)\n",
    "    temp=[]\n",
    "    for i in y: \n",
    "         temp.append(i)\n",
    "    d=' '.join(temp)\n",
    "    return(len(d.split()))"
   ]
  },
  {
   "cell_type": "code",
   "execution_count": 10,
   "id": "06b91bf4",
   "metadata": {},
   "outputs": [],
   "source": [
    "df['Lenghth_text']=df['Clean_message'].apply(Text_count)"
   ]
  },
  {
   "cell_type": "code",
   "execution_count": 11,
   "id": "f730e75f",
   "metadata": {},
   "outputs": [
    {
     "data": {
      "text/html": [
       "<div>\n",
       "<style scoped>\n",
       "    .dataframe tbody tr th:only-of-type {\n",
       "        vertical-align: middle;\n",
       "    }\n",
       "\n",
       "    .dataframe tbody tr th {\n",
       "        vertical-align: top;\n",
       "    }\n",
       "\n",
       "    .dataframe thead th {\n",
       "        text-align: right;\n",
       "    }\n",
       "</style>\n",
       "<table border=\"1\" class=\"dataframe\">\n",
       "  <thead>\n",
       "    <tr style=\"text-align: right;\">\n",
       "      <th></th>\n",
       "      <th>Category</th>\n",
       "      <th>Message</th>\n",
       "      <th>Clean_message</th>\n",
       "      <th>Lemmatized_message</th>\n",
       "      <th>Lenghth_text</th>\n",
       "    </tr>\n",
       "  </thead>\n",
       "  <tbody>\n",
       "    <tr>\n",
       "      <th>0</th>\n",
       "      <td>ham</td>\n",
       "      <td>Go until jurong point, crazy.. Available only ...</td>\n",
       "      <td>Go jurong point , crazy .. Available bugis n g...</td>\n",
       "      <td>Go jurong point , crazy .. Available bugis n g...</td>\n",
       "      <td>20</td>\n",
       "    </tr>\n",
       "    <tr>\n",
       "      <th>1</th>\n",
       "      <td>ham</td>\n",
       "      <td>Ok lar... Joking wif u oni...</td>\n",
       "      <td>Ok lar ... Joking wif u oni ...</td>\n",
       "      <td>Ok lar ... Joking wif u oni ...</td>\n",
       "      <td>8</td>\n",
       "    </tr>\n",
       "    <tr>\n",
       "      <th>2</th>\n",
       "      <td>spam</td>\n",
       "      <td>Free entry in 2 a wkly comp to win FA Cup fina...</td>\n",
       "      <td>Free entry 2 wkly comp win FA Cup final tkts 2...</td>\n",
       "      <td>Free entry 2 wkly comp win FA Cup final tkts 2...</td>\n",
       "      <td>32</td>\n",
       "    </tr>\n",
       "    <tr>\n",
       "      <th>3</th>\n",
       "      <td>ham</td>\n",
       "      <td>U dun say so early hor... U c already then say...</td>\n",
       "      <td>U dun say early hor ... U c already say ...</td>\n",
       "      <td>U dun say early hor ... U c already say ...</td>\n",
       "      <td>11</td>\n",
       "    </tr>\n",
       "    <tr>\n",
       "      <th>4</th>\n",
       "      <td>ham</td>\n",
       "      <td>Nah I don't think he goes to usf, he lives aro...</td>\n",
       "      <td>Nah I n't think goes usf , lives around though</td>\n",
       "      <td>Nah I n't think go usf , life around though</td>\n",
       "      <td>10</td>\n",
       "    </tr>\n",
       "    <tr>\n",
       "      <th>...</th>\n",
       "      <td>...</td>\n",
       "      <td>...</td>\n",
       "      <td>...</td>\n",
       "      <td>...</td>\n",
       "      <td>...</td>\n",
       "    </tr>\n",
       "    <tr>\n",
       "      <th>5567</th>\n",
       "      <td>spam</td>\n",
       "      <td>This is the 2nd time we have tried 2 contact u...</td>\n",
       "      <td>This 2nd time tried 2 contact u. U £750 Pound ...</td>\n",
       "      <td>This 2nd time tried 2 contact u. U £750 Pound ...</td>\n",
       "      <td>27</td>\n",
       "    </tr>\n",
       "    <tr>\n",
       "      <th>5568</th>\n",
       "      <td>ham</td>\n",
       "      <td>Will ü b going to esplanade fr home?</td>\n",
       "      <td>Will ü b going esplanade fr home ?</td>\n",
       "      <td>Will ü b going esplanade fr home ?</td>\n",
       "      <td>8</td>\n",
       "    </tr>\n",
       "    <tr>\n",
       "      <th>5569</th>\n",
       "      <td>ham</td>\n",
       "      <td>Pity, * was in mood for that. So...any other s...</td>\n",
       "      <td>Pity , * mood . So ... suggestions ?</td>\n",
       "      <td>Pity , * mood . So ... suggestion ?</td>\n",
       "      <td>9</td>\n",
       "    </tr>\n",
       "    <tr>\n",
       "      <th>5570</th>\n",
       "      <td>ham</td>\n",
       "      <td>The guy did some bitching but I acted like i'd...</td>\n",
       "      <td>The guy bitching I acted like 'd interested bu...</td>\n",
       "      <td>The guy bitching I acted like 'd interested bu...</td>\n",
       "      <td>16</td>\n",
       "    </tr>\n",
       "    <tr>\n",
       "      <th>5571</th>\n",
       "      <td>ham</td>\n",
       "      <td>Rofl. Its true to its name</td>\n",
       "      <td>Rofl . Its true name</td>\n",
       "      <td>Rofl . Its true name</td>\n",
       "      <td>5</td>\n",
       "    </tr>\n",
       "  </tbody>\n",
       "</table>\n",
       "<p>5572 rows × 5 columns</p>\n",
       "</div>"
      ],
      "text/plain": [
       "     Category                                            Message  \\\n",
       "0         ham  Go until jurong point, crazy.. Available only ...   \n",
       "1         ham                      Ok lar... Joking wif u oni...   \n",
       "2        spam  Free entry in 2 a wkly comp to win FA Cup fina...   \n",
       "3         ham  U dun say so early hor... U c already then say...   \n",
       "4         ham  Nah I don't think he goes to usf, he lives aro...   \n",
       "...       ...                                                ...   \n",
       "5567     spam  This is the 2nd time we have tried 2 contact u...   \n",
       "5568      ham               Will ü b going to esplanade fr home?   \n",
       "5569      ham  Pity, * was in mood for that. So...any other s...   \n",
       "5570      ham  The guy did some bitching but I acted like i'd...   \n",
       "5571      ham                         Rofl. Its true to its name   \n",
       "\n",
       "                                          Clean_message  \\\n",
       "0     Go jurong point , crazy .. Available bugis n g...   \n",
       "1                       Ok lar ... Joking wif u oni ...   \n",
       "2     Free entry 2 wkly comp win FA Cup final tkts 2...   \n",
       "3           U dun say early hor ... U c already say ...   \n",
       "4        Nah I n't think goes usf , lives around though   \n",
       "...                                                 ...   \n",
       "5567  This 2nd time tried 2 contact u. U £750 Pound ...   \n",
       "5568                 Will ü b going esplanade fr home ?   \n",
       "5569               Pity , * mood . So ... suggestions ?   \n",
       "5570  The guy bitching I acted like 'd interested bu...   \n",
       "5571                               Rofl . Its true name   \n",
       "\n",
       "                                     Lemmatized_message  Lenghth_text  \n",
       "0     Go jurong point , crazy .. Available bugis n g...            20  \n",
       "1                       Ok lar ... Joking wif u oni ...             8  \n",
       "2     Free entry 2 wkly comp win FA Cup final tkts 2...            32  \n",
       "3           U dun say early hor ... U c already say ...            11  \n",
       "4           Nah I n't think go usf , life around though            10  \n",
       "...                                                 ...           ...  \n",
       "5567  This 2nd time tried 2 contact u. U £750 Pound ...            27  \n",
       "5568                 Will ü b going esplanade fr home ?             8  \n",
       "5569                Pity , * mood . So ... suggestion ?             9  \n",
       "5570  The guy bitching I acted like 'd interested bu...            16  \n",
       "5571                               Rofl . Its true name             5  \n",
       "\n",
       "[5572 rows x 5 columns]"
      ]
     },
     "execution_count": 11,
     "metadata": {},
     "output_type": "execute_result"
    }
   ],
   "source": [
    "df"
   ]
  },
  {
   "cell_type": "code",
   "execution_count": 13,
   "id": "f6d225c3",
   "metadata": {},
   "outputs": [],
   "source": [
    "#Removing the numbers from the text.\n",
    "def rem_num(x):\n",
    "    temp=[]\n",
    "    for i in x:\n",
    "        if i.isdigit(): \n",
    "            pass\n",
    "        else:\n",
    "            temp.append(i)\n",
    "    hi=''.join(temp)\n",
    "    return hi"
   ]
  },
  {
   "cell_type": "code",
   "execution_count": 14,
   "id": "3a39c436",
   "metadata": {},
   "outputs": [
    {
     "data": {
      "text/plain": [
       "'Hi  i am  Nityam  and '"
      ]
     },
     "execution_count": 14,
     "metadata": {},
     "output_type": "execute_result"
    }
   ],
   "source": [
    "rem_num('Hi 0029 i am 10 Nityam 20 and 30')"
   ]
  },
  {
   "cell_type": "code",
   "execution_count": 15,
   "id": "47731446",
   "metadata": {},
   "outputs": [],
   "source": [
    "df['Rem_num']=df['Clean_message'].apply(rem_num)"
   ]
  },
  {
   "cell_type": "code",
   "execution_count": 16,
   "id": "1414451a",
   "metadata": {},
   "outputs": [],
   "source": [
    "from sklearn.feature_extraction.text import CountVectorizer\n",
    "vectorizer=CountVectorizer()"
   ]
  },
  {
   "cell_type": "code",
   "execution_count": 17,
   "id": "f6ee28d4",
   "metadata": {},
   "outputs": [
    {
     "data": {
      "text/plain": [
       "CountVectorizer()"
      ]
     },
     "execution_count": 17,
     "metadata": {},
     "output_type": "execute_result"
    }
   ],
   "source": [
    "vectorizer.fit(df['Rem_num'])"
   ]
  },
  {
   "cell_type": "code",
   "execution_count": 18,
   "id": "a0e6c4ad",
   "metadata": {},
   "outputs": [
    {
     "data": {
      "text/plain": [
       "array(['____', 'aa', 'aah', ..., 'zyada', 'èn', '〨ud'], dtype=object)"
      ]
     },
     "execution_count": 18,
     "metadata": {},
     "output_type": "execute_result"
    }
   ],
   "source": [
    "vectorizer.get_feature_names_out()"
   ]
  },
  {
   "cell_type": "code",
   "execution_count": 19,
   "id": "40498aad",
   "metadata": {},
   "outputs": [
    {
     "data": {
      "text/plain": [
       "array(['____', 'aa', 'aah', 'aaniye', 'aaooooright', 'aathi', 'ab',\n",
       "       'abbey', 'abdomen', 'abeg', 'abel', 'aberdeen', 'abi', 'ability',\n",
       "       'abiola', 'abj', 'able', 'abnormally', 'about', 'aboutas',\n",
       "       'abroad', 'absence', 'absolutely', 'absolutly', 'abstract', 'abt',\n",
       "       'abta', 'aburo', 'abuse', 'abusers', 'ac', 'academic', 'acc',\n",
       "       'accent', 'accenture', 'accept', 'access', 'accessible',\n",
       "       'accidant', 'accident', 'accidentally', 'accommodation',\n",
       "       'accommodationvouchers', 'accomodate', 'accomodations', 'accordin',\n",
       "       'accordingly', 'account', 'accounting', 'accounts', 'accumulation',\n",
       "       'achan', 'ache', 'achieve', 'acid', 'acknowledgement', 'aclpm',\n",
       "       'acnt', 'aco', 'across', 'act', 'acted', 'actin', 'acting',\n",
       "       'action', 'activ', 'activate', 'active', 'activities', 'actor',\n",
       "       'actual', 'actually', 'ad', 'ada', 'adam', 'add', 'addamsfa',\n",
       "       'added', 'addicted', 'addie', 'adding', 'address', 'adds',\n",
       "       'adewale', 'adi', 'adjustable', 'admin', 'administrator',\n",
       "       'admirer', 'admission', 'admit', 'adore', 'adoring', 'adp',\n",
       "       'adress', 'adrian', 'adrink', 'ads', 'adsense', 'adult'],\n",
       "      dtype=object)"
      ]
     },
     "execution_count": 19,
     "metadata": {},
     "output_type": "execute_result"
    }
   ],
   "source": [
    "vectorizer.get_feature_names_out()[0:100]"
   ]
  },
  {
   "cell_type": "code",
   "execution_count": 20,
   "id": "f8a09bd5",
   "metadata": {},
   "outputs": [],
   "source": [
    "vector=vectorizer.transform(df['Rem_num'])"
   ]
  },
  {
   "cell_type": "code",
   "execution_count": 21,
   "id": "40c5c582",
   "metadata": {},
   "outputs": [
    {
     "data": {
      "text/plain": [
       "<5572x7797 sparse matrix of type '<class 'numpy.int64'>'\n",
       "\twith 50587 stored elements in Compressed Sparse Row format>"
      ]
     },
     "execution_count": 21,
     "metadata": {},
     "output_type": "execute_result"
    }
   ],
   "source": [
    "vector"
   ]
  },
  {
   "cell_type": "code",
   "execution_count": 22,
   "id": "2034ccb9",
   "metadata": {},
   "outputs": [],
   "source": [
    "x=vector.toarray()"
   ]
  },
  {
   "cell_type": "code",
   "execution_count": 23,
   "id": "5fdcf3f2",
   "metadata": {},
   "outputs": [
    {
     "data": {
      "text/plain": [
       "array([[0, 0, 0, ..., 0, 0, 0],\n",
       "       [0, 0, 0, ..., 0, 0, 0],\n",
       "       [0, 0, 0, ..., 0, 0, 0],\n",
       "       ...,\n",
       "       [0, 0, 0, ..., 0, 0, 0],\n",
       "       [0, 0, 0, ..., 0, 0, 0],\n",
       "       [0, 0, 0, ..., 0, 0, 0]], dtype=int64)"
      ]
     },
     "execution_count": 23,
     "metadata": {},
     "output_type": "execute_result"
    }
   ],
   "source": [
    "x"
   ]
  },
  {
   "cell_type": "code",
   "execution_count": 24,
   "id": "a8eadbda",
   "metadata": {},
   "outputs": [
    {
     "data": {
      "text/plain": [
       "7797"
      ]
     },
     "execution_count": 24,
     "metadata": {},
     "output_type": "execute_result"
    }
   ],
   "source": [
    "len(vectorizer.get_feature_names_out())"
   ]
  }
 ],
 "metadata": {
  "kernelspec": {
   "display_name": "Python 3 (ipykernel)",
   "language": "python",
   "name": "python3"
  },
  "language_info": {
   "codemirror_mode": {
    "name": "ipython",
    "version": 3
   },
   "file_extension": ".py",
   "mimetype": "text/x-python",
   "name": "python",
   "nbconvert_exporter": "python",
   "pygments_lexer": "ipython3",
   "version": "3.9.13"
  }
 },
 "nbformat": 4,
 "nbformat_minor": 5
}

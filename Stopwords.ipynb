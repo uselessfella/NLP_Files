{
 "cells": [
  {
   "cell_type": "code",
   "execution_count": 1,
   "id": "aa18f363",
   "metadata": {},
   "outputs": [],
   "source": [
    "import nltk"
   ]
  },
  {
   "cell_type": "code",
   "execution_count": 2,
   "id": "a18f81d6",
   "metadata": {},
   "outputs": [],
   "source": [
    "from nltk.corpus import stopwords\n",
    "from nltk.tokenize import word_tokenize"
   ]
  },
  {
   "cell_type": "code",
   "execution_count": 3,
   "id": "c06d781c",
   "metadata": {},
   "outputs": [],
   "source": [
    "b=(\"articles are words that define a noun as specific or unspecific. Consider the following examples: By using the article the, we’ve shown that it was one specific day that was long and one specific cup of tea that tasted good. By using the article a, we’ve created a general statement, implying that any cup of tea would\")"
   ]
  },
  {
   "cell_type": "code",
   "execution_count": 4,
   "id": "efcab591",
   "metadata": {},
   "outputs": [],
   "source": [
    "stop_words = stopwords.words('english')"
   ]
  },
  {
   "cell_type": "code",
   "execution_count": 5,
   "id": "ff2002f7",
   "metadata": {},
   "outputs": [],
   "source": [
    "c = nltk.word_tokenize(b)"
   ]
  },
  {
   "cell_type": "code",
   "execution_count": 6,
   "id": "cd838b05",
   "metadata": {},
   "outputs": [
    {
     "name": "stdout",
     "output_type": "stream",
     "text": [
      "articles\n",
      "words\n",
      "define\n",
      "noun\n",
      "specific\n",
      "unspecific\n",
      ".\n",
      "Consider\n",
      "following\n",
      "examples\n",
      ":\n",
      "By\n",
      "using\n",
      "article\n",
      ",\n",
      "’\n",
      "shown\n",
      "one\n",
      "specific\n",
      "day\n",
      "long\n",
      "one\n",
      "specific\n",
      "cup\n",
      "tea\n",
      "tasted\n",
      "good\n",
      ".\n",
      "By\n",
      "using\n",
      "article\n",
      ",\n",
      "’\n",
      "created\n",
      "general\n",
      "statement\n",
      ",\n",
      "implying\n",
      "cup\n",
      "tea\n",
      "would\n"
     ]
    }
   ],
   "source": [
    "for i in c:\n",
    "    if i in stop_words:\n",
    "        pass\n",
    "    else:\n",
    "        print(i)"
   ]
  },
  {
   "cell_type": "code",
   "execution_count": 7,
   "id": "8ca50b8c",
   "metadata": {},
   "outputs": [],
   "source": [
    "def f_stop_words(x):\n",
    "    y = nltk.word_tokenize(x)\n",
    "    for i in y:\n",
    "        if i in stopwords.words('english'):\n",
    "            pass\n",
    "        else:\n",
    "            d = i\n",
    "            print(d)"
   ]
  },
  {
   "cell_type": "code",
   "execution_count": 8,
   "id": "cfa94e66",
   "metadata": {},
   "outputs": [
    {
     "name": "stdout",
     "output_type": "stream",
     "text": [
      "Hola\n",
      "Amigos\n",
      ",\n",
      "I\n",
      "Nityam\n",
      "Garg\n",
      ",\n",
      "student\n",
      "BML\n",
      "Munjal\n",
      "University\n",
      ".\n"
     ]
    }
   ],
   "source": [
    "f_stop_words(\"Hola Amigos, I am Nityam Garg, a student of BML Munjal University.\")"
   ]
  },
  {
   "cell_type": "code",
   "execution_count": null,
   "id": "c0b84e03",
   "metadata": {},
   "outputs": [],
   "source": []
  },
  {
   "cell_type": "code",
   "execution_count": null,
   "id": "cdb2fa89",
   "metadata": {},
   "outputs": [],
   "source": []
  },
  {
   "cell_type": "code",
   "execution_count": null,
   "id": "79a654f9",
   "metadata": {},
   "outputs": [],
   "source": []
  },
  {
   "cell_type": "code",
   "execution_count": null,
   "id": "990a2de4",
   "metadata": {},
   "outputs": [],
   "source": []
  },
  {
   "cell_type": "code",
   "execution_count": null,
   "id": "446c2361",
   "metadata": {},
   "outputs": [],
   "source": []
  },
  {
   "cell_type": "code",
   "execution_count": null,
   "id": "ad2606ca",
   "metadata": {},
   "outputs": [],
   "source": []
  },
  {
   "cell_type": "code",
   "execution_count": null,
   "id": "efa46640",
   "metadata": {},
   "outputs": [],
   "source": []
  }
 ],
 "metadata": {
  "kernelspec": {
   "display_name": "Python 3 (ipykernel)",
   "language": "python",
   "name": "python3"
  },
  "language_info": {
   "codemirror_mode": {
    "name": "ipython",
    "version": 3
   },
   "file_extension": ".py",
   "mimetype": "text/x-python",
   "name": "python",
   "nbconvert_exporter": "python",
   "pygments_lexer": "ipython3",
   "version": "3.9.13"
  }
 },
 "nbformat": 4,
 "nbformat_minor": 5
}
